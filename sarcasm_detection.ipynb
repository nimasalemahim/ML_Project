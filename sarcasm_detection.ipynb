{
  "nbformat": 4,
  "nbformat_minor": 0,
  "metadata": {
    "colab": {
      "name": "sarcasm_detection.ipynb",
      "provenance": [],
      "collapsed_sections": []
    },
    "kernelspec": {
      "name": "python3",
      "display_name": "Python 3"
    },
    "language_info": {
      "name": "python"
    }
  },
  "cells": [
    {
      "cell_type": "code",
      "metadata": {
        "colab": {
          "base_uri": "https://localhost:8080/"
        },
        "id": "VBtwzE3TbO0c",
        "outputId": "ee83d1f0-9cfa-4be3-de45-02b1342bf880"
      },
      "source": [
        "!wget https://filetransfer.io/data-package/MgxiuALI/download -O data.zip"
      ],
      "execution_count": null,
      "outputs": [
        {
          "output_type": "stream",
          "text": [
            "--2021-07-11 09:13:05--  https://filetransfer.io/data-package/MgxiuALI/download\n",
            "Resolving filetransfer.io (filetransfer.io)... 104.21.13.139, 172.67.200.96\n",
            "Connecting to filetransfer.io (filetransfer.io)|104.21.13.139|:443... connected.\n",
            "HTTP request sent, awaiting response... 302 Found\n",
            "Location: https://s25.filetransfer.io/storage/download/r5QPovnlT8vM [following]\n",
            "--2021-07-11 09:13:05--  https://s25.filetransfer.io/storage/download/r5QPovnlT8vM\n",
            "Resolving s25.filetransfer.io (s25.filetransfer.io)... 104.21.13.139, 172.67.200.96\n",
            "Connecting to s25.filetransfer.io (s25.filetransfer.io)|104.21.13.139|:443... connected.\n",
            "HTTP request sent, awaiting response... 200 OK\n",
            "Length: 114561624 (109M) [application/octet-stream]\n",
            "Saving to: ‘data.zip’\n",
            "\n",
            "data.zip            100%[===================>] 109.25M  8.35MB/s    in 16s     \n",
            "\n",
            "2021-07-11 09:13:23 (6.63 MB/s) - ‘data.zip’ saved [114561624/114561624]\n",
            "\n"
          ],
          "name": "stdout"
        }
      ]
    },
    {
      "cell_type": "code",
      "metadata": {
        "colab": {
          "base_uri": "https://localhost:8080/"
        },
        "id": "0j5F_dhcAHO7",
        "outputId": "c014864e-4533-4d5d-b8a7-b3cee16d81b3"
      },
      "source": [
        "!unzip data.zip"
      ],
      "execution_count": null,
      "outputs": [
        {
          "output_type": "stream",
          "text": [
            "Archive:  data.zip\n",
            "  inflating: sarcasm_test_set.csv    \n",
            "  inflating: sarcasm_train_set.csv   \n"
          ],
          "name": "stdout"
        }
      ]
    },
    {
      "cell_type": "code",
      "metadata": {
        "id": "W7hLcIAPBbN8"
      },
      "source": [
        "import pandas as pd, numpy as np, re, time\n",
        "from nltk.stem.porter import PorterStemmer\n",
        "from sklearn.model_selection import train_test_split\n",
        "from sklearn.metrics import confusion_matrix\n",
        "from sklearn.svm import LinearSVC\n",
        "from sklearn.model_selection import cross_val_score\n",
        "from sklearn.naive_bayes import GaussianNB\n",
        "from sklearn.linear_model import LogisticRegression\n",
        "from sklearn.ensemble import RandomForestClassifier\n",
        "from sklearn.feature_extraction.text import ENGLISH_STOP_WORDS, TfidfVectorizer\n",
        "import matplotlib.pyplot as plt\n",
        "import seaborn as sns\n",
        "from datetime import datetime"
      ],
      "execution_count": null,
      "outputs": []
    },
    {
      "cell_type": "code",
      "metadata": {
        "id": "BmtMc5BDAPNz"
      },
      "source": [
        "train_data = pd.read_csv('sarcasm_train_set.csv')\n",
        "test_data = pd.read_csv('sarcasm_test_set.csv')"
      ],
      "execution_count": null,
      "outputs": []
    },
    {
      "cell_type": "code",
      "metadata": {
        "id": "uN6FT8mx5M0B"
      },
      "source": [
        "def clean_text(string):\n",
        "    # stop_words=['the', 'a', 'and', 'is', 'be', 'will']\n",
        "    # sw_nltk = stopwords.words('english') \n",
        "    punctuations=r'''!()-[]{};:'\"\\,<>./?@#$%^&*_~'''\n",
        "    string = re.sub(r'https?://\\S+|www\\.\\S+', '', string)\n",
        "    string = re.sub(r'<.*?>', '', string)\n",
        "    for x in string.lower(): \n",
        "        if x in punctuations: \n",
        "            string = string.replace(x, \"\") \n",
        "    string = string.lower()\n",
        "    string = ' '.join([word for word in string.split() if word not in ENGLISH_STOP_WORDS])\n",
        "    string = re.sub(r'\\s+', ' ', string).strip()\n",
        "\n",
        "    return string"
      ],
      "execution_count": null,
      "outputs": []
    },
    {
      "cell_type": "code",
      "metadata": {
        "id": "ijXwKshY5K0i"
      },
      "source": [
        "train_data['comment'] = train_data['comment'].apply(lambda s: str(s)).apply(clean_text)\n",
        "train_data['parent_comment'] = train_data['parent_comment'].apply(lambda s: str(s)).apply(clean_text)"
      ],
      "execution_count": null,
      "outputs": []
    },
    {
      "cell_type": "code",
      "metadata": {
        "id": "iH-t_0hK2Flp"
      },
      "source": [
        "normal_data = train_data[train_data['label'] == 0]\n",
        "sarcasm_data = train_data[train_data['label'] == 1]"
      ],
      "execution_count": null,
      "outputs": []
    },
    {
      "cell_type": "code",
      "metadata": {
        "colab": {
          "base_uri": "https://localhost:8080/",
          "height": 333
        },
        "id": "3C01btl22ZJC",
        "outputId": "01cec0f7-949f-46b2-b682-083eb5b05857"
      },
      "source": [
        "sns.countplot(train_data['label']);"
      ],
      "execution_count": null,
      "outputs": [
        {
          "output_type": "stream",
          "text": [
            "/usr/local/lib/python3.7/dist-packages/seaborn/_decorators.py:43: FutureWarning: Pass the following variable as a keyword arg: x. From version 0.12, the only valid positional argument will be `data`, and passing other arguments without an explicit keyword will result in an error or misinterpretation.\n",
            "  FutureWarning\n"
          ],
          "name": "stderr"
        },
        {
          "output_type": "display_data",
          "data": {
            "image/png": "[encoded data removed]",
            "text/plain": [
              "<Figure size 432x288 with 1 Axes>"
            ]
          },
          "metadata": {
            "tags": [],
            "needs_background": "light"
          }
        }
      ]
    },
    {
      "cell_type": "code",
      "metadata": {
        "colab": {
          "base_uri": "https://localhost:8080/"
        },
        "id": "Rzo7z52w24UL",
        "outputId": "7b050db2-44ed-4181-e05a-e1db864bbef7"
      },
      "source": [
        "normal_data['author'].value_counts()"
      ],
      "execution_count": null,
      "outputs": [
        {
          "output_type": "execute_result",
          "data": {
            "text/plain": [
              "Biffingston          336\n",
              "pokemon_fetish       172\n",
              "NeonDisease          159\n",
              "ShyBiDude89          156\n",
              "ivsciguy             138\n",
              "                    ... \n",
              "kaminari1              1\n",
              "licentiousbuffoon      1\n",
              "mrhotpotato            1\n",
              "Loborin                1\n",
              "lethalcure1            1\n",
              "Name: author, Length: 219263, dtype: int64"
            ]
          },
          "metadata": {
            "tags": []
          },
          "execution_count": 52
        }
      ]
    },
    {
      "cell_type": "code",
      "metadata": {
        "colab": {
          "base_uri": "https://localhost:8080/"
        },
        "id": "EvzewSPb4kmD",
        "outputId": "90e51d8a-f5b1-4dd6-faea-436d74376da5"
      },
      "source": [
        "sarcasm_data['author'].value_counts()"
      ],
      "execution_count": null,
      "outputs": [
        {
          "output_type": "execute_result",
          "data": {
            "text/plain": [
              "Biffingston       332\n",
              "NeonDisease       177\n",
              "pokemon_fetish    172\n",
              "ShyBiDude89       148\n",
              "ivsciguy          144\n",
              "                 ... \n",
              "lnuw                1\n",
              "StretchTucker       1\n",
              "EDM117              1\n",
              "AppleDane           1\n",
              "lethalcure1         1\n",
              "Name: author, Length: 220805, dtype: int64"
            ]
          },
          "metadata": {
            "tags": []
          },
          "execution_count": 53
        }
      ]
    },
    {
      "cell_type": "code",
      "metadata": {
        "id": "xGnoJ3lO5YcA"
      },
      "source": [
        "words_normal_data = normal_data['comment'].apply(lambda s: str(s).split())\n",
        "words_sarcasm_data = sarcasm_data['comment'].apply(lambda s: str(s).split())\n"
      ],
      "execution_count": null,
      "outputs": []
    },
    {
      "cell_type": "code",
      "metadata": {
        "id": "qTox9vj88O-B"
      },
      "source": [
        "words_normal_data_dict = {}\n",
        "words_sarcasm_data_dict = {}\n",
        "\n",
        "for arr in words_normal_data:\n",
        "  for word in arr:\n",
        "    words_normal_data_dict[word] = words_normal_data_dict.get(word, 0) + 1\n",
        "\n",
        "for arr in words_sarcasm_data:\n",
        "  for word in arr:\n",
        "    words_sarcasm_data_dict[word] = words_sarcasm_data_dict.get(word, 0) + 1\n",
        "\n"
      ],
      "execution_count": null,
      "outputs": []
    },
    {
      "cell_type": "code",
      "metadata": {
        "id": "9L7mRhRf-CEZ"
      },
      "source": [
        "words_normal_data_dict = sorted(words_normal_data_dict.items(), key=lambda x: x[1], reverse=True)\n",
        "words_sarcasm_data_dict = sorted(words_sarcasm_data_dict.items(), key=lambda x: x[1], reverse=True)"
      ],
      "execution_count": null,
      "outputs": []
    },
    {
      "cell_type": "code",
      "metadata": {
        "colab": {
          "base_uri": "https://localhost:8080/"
        },
        "id": "sOaO7xwE737p",
        "outputId": "55b6be71-bf75-4fd4-eb77-40a1cd33e354"
      },
      "source": [
        "words_normal_data_dict[:50]"
      ],
      "execution_count": null,
      "outputs": [
        {
          "output_type": "execute_result",
          "data": {
            "text/plain": [
              "[('like', 23715),\n",
              " ('just', 22684),\n",
              " ('dont', 16681),\n",
              " ('im', 14530),\n",
              " ('think', 12321),\n",
              " ('people', 12194),\n",
              " ('thats', 10274),\n",
              " ('fuck', 9506),\n",
              " ('good', 9432),\n",
              " ('know', 9241),\n",
              " ('really', 8288),\n",
              " ('time', 8097),\n",
              " ('youre', 7135),\n",
              " ('yeah', 6954),\n",
              " ('make', 6632),\n",
              " ('did', 6510),\n",
              " ('right', 6373),\n",
              " ('got', 6192),\n",
              " ('game', 5974),\n",
              " ('want', 5789),\n",
              " ('going', 5605),\n",
              " ('sure', 5587),\n",
              " ('pretty', 5499),\n",
              " ('didnt', 5468),\n",
              " ('way', 5450),\n",
              " ('say', 5352),\n",
              " ('actually', 5275),\n",
              " ('better', 5175),\n",
              " ('doesnt', 5133),\n",
              " ('shit', 4986),\n",
              " ('probably', 4960),\n",
              " ('need', 4865),\n",
              " ('does', 4841),\n",
              " ('hes', 4790),\n",
              " ('yes', 4592),\n",
              " ('thing', 4466),\n",
              " ('use', 4353),\n",
              " ('lol', 4322),\n",
              " ('love', 4321),\n",
              " ('isnt', 4241),\n",
              " ('ive', 4137),\n",
              " ('thanks', 3900),\n",
              " ('man', 3858),\n",
              " ('new', 3840),\n",
              " ('said', 3813),\n",
              " ('bad', 3767),\n",
              " ('id', 3679),\n",
              " ('thought', 3674),\n",
              " ('look', 3659),\n",
              " ('looks', 3643)]"
            ]
          },
          "metadata": {
            "tags": []
          },
          "execution_count": 59
        }
      ]
    },
    {
      "cell_type": "code",
      "metadata": {
        "colab": {
          "base_uri": "https://localhost:8080/"
        },
        "id": "iGHv4p2DC6Tp",
        "outputId": "8c0c00d6-ace6-4774-8cf5-1ecc7ddee12a"
      },
      "source": [
        "words_sarcasm_data_dict[:50]"
      ],
      "execution_count": null,
      "outputs": [
        {
          "output_type": "execute_result",
          "data": {
            "text/plain": [
              "[('just', 26209),\n",
              " ('yeah', 25699),\n",
              " ('like', 20765),\n",
              " ('dont', 18465),\n",
              " ('people', 16738),\n",
              " ('thats', 13325),\n",
              " ('im', 12768),\n",
              " ('right', 12020),\n",
              " ('know', 11460),\n",
              " ('good', 9986),\n",
              " ('sure', 9940),\n",
              " ('yes', 9558),\n",
              " ('youre', 9070),\n",
              " ('think', 7623),\n",
              " ('oh', 7577),\n",
              " ('make', 7443),\n",
              " ('really', 7387),\n",
              " ('obviously', 7328),\n",
              " ('man', 6979),\n",
              " ('hes', 6902),\n",
              " ('time', 6734),\n",
              " ('need', 6665),\n",
              " ('game', 6616),\n",
              " ('better', 6566),\n",
              " ('didnt', 6564),\n",
              " ('totally', 6435),\n",
              " ('forgot', 6370),\n",
              " ('way', 6054),\n",
              " ('doesnt', 5689),\n",
              " ('want', 5523),\n",
              " ('mean', 5212),\n",
              " ('great', 5192),\n",
              " ('clearly', 5167),\n",
              " ('isnt', 5156),\n",
              " ('thing', 5080),\n",
              " ('theyre', 4932),\n",
              " ('going', 4921),\n",
              " ('did', 4683),\n",
              " ('got', 4490),\n",
              " ('white', 4456),\n",
              " ('wow', 4405),\n",
              " ('bad', 4343),\n",
              " ('real', 4184),\n",
              " ('use', 4116),\n",
              " ('guys', 4079),\n",
              " ('maybe', 3973),\n",
              " ('fuck', 3917),\n",
              " ('new', 3914),\n",
              " ('guy', 3911),\n",
              " ('women', 3895)]"
            ]
          },
          "metadata": {
            "tags": []
          },
          "execution_count": 60
        }
      ]
    },
    {
      "cell_type": "code",
      "metadata": {
        "colab": {
          "base_uri": "https://localhost:8080/"
        },
        "id": "7po9tuqsEJLy",
        "outputId": "61f278f6-87a4-4117-e410-d66f0185e817"
      },
      "source": [
        "normal_data['subreddit'].value_counts()"
      ],
      "execution_count": null,
      "outputs": [
        {
          "output_type": "execute_result",
          "data": {
            "text/plain": [
              "AskReddit          31509\n",
              "politics           12490\n",
              "funny               7817\n",
              "leagueoflegends     7640\n",
              "worldnews           7634\n",
              "                   ...  \n",
              "totalanguage           1\n",
              "MacroPorn              1\n",
              "ColbertRally           1\n",
              "vertcoin               1\n",
              "dfwmusic               1\n",
              "Name: subreddit, Length: 11685, dtype: int64"
            ]
          },
          "metadata": {
            "tags": []
          },
          "execution_count": 66
        }
      ]
    },
    {
      "cell_type": "code",
      "metadata": {
        "colab": {
          "base_uri": "https://localhost:8080/"
        },
        "id": "kY5yjOmHHIxJ",
        "outputId": "8dcbcf76-05e1-4216-85db-f7aaeba89c7e"
      },
      "source": [
        "sarcasm_data['subreddit'].value_counts()"
      ],
      "execution_count": null,
      "outputs": [
        {
          "output_type": "execute_result",
          "data": {
            "text/plain": [
              "AskReddit          21209\n",
              "politics           19173\n",
              "worldnews          13568\n",
              "leagueoflegends     9195\n",
              "pcmasterrace        8647\n",
              "                   ...  \n",
              "WTF_For_Real           1\n",
              "PrestigeGaming         1\n",
              "BDSMGW                 1\n",
              "ModelAusSenate         1\n",
              "victoriajustice        1\n",
              "Name: subreddit, Length: 8275, dtype: int64"
            ]
          },
          "metadata": {
            "tags": []
          },
          "execution_count": 67
        }
      ]
    },
    {
      "cell_type": "code",
      "metadata": {
        "id": "qWo6USqAJ_A5"
      },
      "source": [
        "date_of_normal = normal_data['created_utc'].apply(lambda x: datetime.strptime(str(x), '%Y-%m-%d %H:%M:%S'))\n",
        "date_of_sarcasm = sarcasm_data['created_utc'].apply(lambda x: datetime.strptime(str(x), '%Y-%m-%d %H:%M:%S'))"
      ],
      "execution_count": null,
      "outputs": []
    },
    {
      "cell_type": "code",
      "metadata": {
        "colab": {
          "base_uri": "https://localhost:8080/",
          "height": 280
        },
        "id": "YoYRCzcTLwXQ",
        "outputId": "23f3caee-9bc7-45f0-a169-0a278c74e781"
      },
      "source": [
        "sns.kdeplot(date_of_normal);\n",
        "sns.kdeplot(date_of_sarcasm);\n",
        "plt.legend(['normal', 'sarcasm']);\n",
        "plt.show();"
      ],
      "execution_count": null,
      "outputs": [
        {
          "output_type": "display_data",
          "data": {
            "image/png": "[encoded data removed]",
            "text/plain": [
              "<Figure size 432x288 with 1 Axes>"
            ]
          },
          "metadata": {
            "tags": [],
            "needs_background": "light"
          }
        }
      ]
    },
    {
      "cell_type": "code",
      "metadata": {
        "colab": {
          "base_uri": "https://localhost:8080/"
        },
        "id": "p89pFIA9Ajez",
        "outputId": "2c5245ed-fe24-4315-8c2a-7ba90dab28e5"
      },
      "source": [
        "train_data.columns"
      ],
      "execution_count": null,
      "outputs": [
        {
          "output_type": "execute_result",
          "data": {
            "text/plain": [
              "Index(['Unnamed: 0', 'label', 'comment', 'author', 'subreddit', 'score', 'ups',\n",
              "       'downs', 'date', 'created_utc', 'parent_comment'],\n",
              "      dtype='object')"
            ]
          },
          "metadata": {
            "tags": []
          },
          "execution_count": 7
        }
      ]
    },
    {
      "cell_type": "code",
      "metadata": {
        "id": "DamZT5HSPngv"
      },
      "source": [
        "features = train_data['comment']"
      ],
      "execution_count": null,
      "outputs": []
    },
    {
      "cell_type": "code",
      "metadata": {
        "id": "i3Jbi2TCD11A"
      },
      "source": [
        "ps = PorterStemmer()\n",
        "feature = features.apply(lambda x: x.split())\n",
        "features = features.apply(lambda x : ''.join([ps.stem(word) for word in x]))"
      ],
      "execution_count": null,
      "outputs": []
    },
    {
      "cell_type": "code",
      "metadata": {
        "colab": {
          "base_uri": "https://localhost:8080/"
        },
        "id": "t4pVdNhb-t7C",
        "outputId": "5969c541-bdb5-4d6e-e8f6-09a02e3a8c14"
      },
      "source": [
        "features"
      ],
      "execution_count": null,
      "outputs": [
        {
          "output_type": "execute_result",
          "data": {
            "text/plain": [
              "0                                                     nc nh\n",
              "1          know west teams play west teams east teams right\n",
              "2         underdogs earlier today gronks announcement af...\n",
              "3                       meme isnt funny new york nigga ones\n",
              "4         dont pay attention long shes legal wouldnt kic...\n",
              "                                ...                        \n",
              "808993    im sure iran n korea technology create pigbird...\n",
              "808994                                      dont vote green\n",
              "808995          atheist conspiracy make christians look bad\n",
              "808996                      slavs got country called kosovo\n",
              "808997      values capitalism good money imprisoning people\n",
              "Name: comment, Length: 808998, dtype: object"
            ]
          },
          "metadata": {
            "tags": []
          },
          "execution_count": 30
        }
      ]
    },
    {
      "cell_type": "code",
      "metadata": {
        "id": "4nzQ9xjyE8mQ"
      },
      "source": [
        "tv = TfidfVectorizer(max_features = 20000000)\n",
        "features1 = list(features[0:100000])\n",
        "features1 = tv.fit_transform(features1).toarray()"
      ],
      "execution_count": null,
      "outputs": []
    },
    {
      "cell_type": "code",
      "metadata": {
        "colab": {
          "base_uri": "https://localhost:8080/"
        },
        "id": "VetJz3tU-zJJ",
        "outputId": "f792eb9e-b3eb-43f3-f115-7e7c1d145748"
      },
      "source": [
        "features1.shape\n"
      ],
      "execution_count": null,
      "outputs": [
        {
          "output_type": "execute_result",
          "data": {
            "text/plain": [
              "(10000, 13752)"
            ]
          },
          "metadata": {
            "tags": []
          },
          "execution_count": 36
        }
      ]
    },
    {
      "cell_type": "code",
      "metadata": {
        "colab": {
          "base_uri": "https://localhost:8080/",
          "height": 35
        },
        "id": "4gQTOYmYAwYM",
        "outputId": "80dd67f1-9522-46f8-98cc-56995faa2448"
      },
      "source": [
        "re.sub('[^a-zA-Z]', ' ', features[0])"
      ],
      "execution_count": null,
      "outputs": [
        {
          "output_type": "execute_result",
          "data": {
            "application/vnd.google.colaboratory.intrinsic+json": {
              "type": "string"
            },
            "text/plain": [
              "'NC and NH '"
            ]
          },
          "metadata": {
            "tags": []
          },
          "execution_count": 14
        }
      ]
    },
    {
      "cell_type": "code",
      "metadata": {
        "colab": {
          "base_uri": "https://localhost:8080/",
          "height": 35
        },
        "id": "rF42wHiRA09w",
        "outputId": "2340d2e1-9bba-412d-e313-0ca0522c16ec"
      },
      "source": [
        "features[808993]"
      ],
      "execution_count": null,
      "outputs": [
        {
          "output_type": "execute_result",
          "data": {
            "application/vnd.google.colaboratory.intrinsic+json": {
              "type": "string"
            },
            "text/plain": [
              "\"I'm sure that Iran and N. Korea have the technology to create a pig/bird/human hybrid virus.\""
            ]
          },
          "metadata": {
            "tags": []
          },
          "execution_count": 19
        }
      ]
    },
    {
      "cell_type": "code",
      "metadata": {
        "id": "VLVlCcp70zUU"
      },
      "source": [
        ""
      ],
      "execution_count": null,
      "outputs": []
    }
  ]
}